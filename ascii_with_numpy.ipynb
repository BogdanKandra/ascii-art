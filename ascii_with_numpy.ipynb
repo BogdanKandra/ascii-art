{
 "cells": [
  {
   "cell_type": "markdown",
   "metadata": {},
   "source": [
    "https://www.hackerearth.com/fr/practice/notes/beautiful-python-a-simple-ascii-art-generator-from-images/\n",
    "\n",
    "https://www.programcreek.com/python/example/96580/skimage.transform"
   ]
  },
  {
   "cell_type": "code",
   "execution_count": 1,
   "metadata": {},
   "outputs": [],
   "source": [
    "import numpy as np\n",
    "import skimage\n",
    "from skimage import io, transform"
   ]
  },
  {
   "cell_type": "code",
   "execution_count": 10,
   "metadata": {},
   "outputs": [
    {
     "name": "stdout",
     "output_type": "stream",
     "text": [
      "....  ..         .   .    .    ....\n",
      "....  .    .      ... .        ....\n",
      "....   .  .........: :       . ....\n",
      "........ ....,:,,:**+...        ...\n",
      "......,:. ..::+???++,:**,....   .  \n",
      ".....,,*,,.,:::*+?##?0#?+*:..:.  ..\n",
      ".....:??+*::*::,+?##?WW0+???:.,. ..\n",
      "....+???????+*:*++++?+?*,*++?,,... \n",
      "...*####?###?+:*:+?*,,.*,::###,....\n",
      "...#00000#?0??++*+?+,++::.**?#?,.. \n",
      "...#0WWWWWW#0####?+++?+*::**:*#:.. \n",
      "..?00WWWW0W0W00??#+???+?*:++?+?,...\n",
      "..#0WWW@WWW00##00#0???++::*??++. ..\n",
      ".:0WWW@WWWWW0##??#?#?*,*,,:?#??.. .\n",
      ".#WW@@W@WW@WWW00##??+:::,.,*#?+, . \n",
      ".0WW@@WW@@@@W@WW##?+**?:..,,#?*,. .\n",
      ":0@WW@W@@@@@@WW00#??+?#*...,#+::...\n",
      ":W@W@@@@@@@@@@W0?#??+##:...,*::....\n",
      ",W@@@@@@@@@@@@00###+,#+...,?+:,,...\n",
      ".?W@@@@@@@@@@@WW###:*#:..:??**.....\n",
      "..0@@@@@@@@@@W00#0??#?*..:.0:,.....\n",
      "..:@@@@@@@@@@W0##?*00+:,.,:+,......\n",
      "...WWWW@WW@WW#????**?,,,..,,.......\n",
      "...W0++++000#+*#,,,*:..,...........\n",
      "..,?W,:,*+?+:,::,.... ..,. ........\n",
      "...,*:,,*?*::,,,.......,,,..,......\n",
      ".....:0:.:,+*::........:,*,,.......\n",
      "......?0.,:*+*:,,.......,,:,.......\n",
      "......,#0,,.+**:,..................\n",
      "........0@W?#+::,..........*.......\n",
      ",.......*WW*++*:,,,,....+?**.......\n",
      ".,,,,,..,W0**?*:,,,,,,?*,:+*.......\n",
      ",,,,,,,,,?+*:?+*:,,,,.,::**:#......\n",
      ",,,.,,,,,,:***#?:,,:,.,,,:,:00W0#,.\n",
      ",,,,,,,,:W0:,**##*,,,,.....,WWWWWWW\n",
      ",,,,,,,#0@?*,,,*?##*,,.. ..:@@@W@@@\n",
      ",,,,,:0W#.?*,,,:*?##?*:,,,:W@@@@@@@\n",
      "::,:0@@W ,++:,,,:**+??#??+#@@@@@@@@\n",
      "::+0@@@@W:*?::,,,::,,+#??+@@@@@@@@W\n",
      ":WW@@@@@@**?*:,,:***,+?+*+@@@@@@@@@\n",
      "W@@@@@@@@@+++:,,,:****+:*@@@@@@@@@@\n",
      "@@@@@@@@@@@?+*:,,*:*:*::+@@@@@@@@@@\n",
      "@@@@@@@@@@@@?+*:,*****:*@@@@@@@@@@@\n",
      "@@@@@@@@@@@@@#+*:*++*::@@@@@@@@@@@@\n",
      "@@@@@@@@@@@@@@@?*:+++*@@@@@@@@@@@@@\n",
      "@@@@@@@@@@@@@@@@@W#0@@@@@@@@@@@@@@@\n",
      "@@@@@@@@@@@@@@@@@@@@@@@@@@@@@@@@@@@\n",
      "@@@@@@@@@@@@@@@@@@@@@@@@@@@@@@@@@@@\n",
      "@@@@@@@@@@@@@@@@@@@@@@@@@@@@@@@@@@@\n",
      "@@@@@@@@@@@@@@@@@@@@@@@@@@@@@@@@@@@\n"
     ]
    },
    {
     "name": "stderr",
     "output_type": "stream",
     "text": [
      "/usr/local/conda3/lib/python3.6/site-packages/skimage/transform/_warps.py:105: UserWarning: The default mode, 'constant', will be changed to 'reflect' in skimage 0.15.\n",
      "  warn(\"The default mode, 'constant', will be changed to 'reflect' in \"\n",
      "/usr/local/conda3/lib/python3.6/site-packages/skimage/transform/_warps.py:110: UserWarning: Anti-aliasing will be enabled by default in skimage 0.15 to avoid aliasing artifacts when down-sampling images.\n",
      "  warn(\"Anti-aliasing will be enabled by default in skimage 0.15 to \"\n"
     ]
    }
   ],
   "source": [
    "def scale_image(image, \n",
    "                new_width=100):\n",
    "    \"\"\"Resizes an image preserving the aspect ratio.\n",
    "    \"\"\"\n",
    "   \n",
    "    original_width, original_height = image.shape\n",
    "    aspect_ratio = original_height/float(original_width)\n",
    "    new_height = int(aspect_ratio * new_width)\n",
    "\n",
    "    return skimage.transform.resize(image, (new_width, new_height))\n",
    "\n",
    "\n",
    "def image2ascii(image=np.zeros((100,100)), \n",
    "                new_width=100):\n",
    "    \n",
    "    def float2char(x=.1):\n",
    "        ASCII_CHARS = [ '@','W','0','#','?', '+', '*', ':', ',','.',' ']\n",
    "        num_chars = len(ASCII_CHARS)\n",
    "        return ASCII_CHARS[ int(num_chars*x)]\n",
    "    \n",
    "    #this is going to get called on an ndarray of float so vectorize\n",
    "    float2char = np.vectorize(float2char)\n",
    "    \n",
    "    image = scale_image(image, new_width=new_width)\n",
    "    \n",
    "    #float2char yields an ndarray of str \n",
    "    #we have to flatten to a single str\n",
    "    #might be better to use a reduce()\n",
    "    rows = [\"\".join(row) for row in float2char(image) ]\n",
    "    return \"\\n\".join(rows)\n",
    "\n",
    "def handle_image_conversion(image_filepath, \n",
    "                            new_width=100):\n",
    "    \n",
    "    image = np.zeros((200,200))\n",
    "    \n",
    "    try:\n",
    "        image = skimage.io.imread( image_filepath, as_gray=True)\n",
    "    except Exception as e:\n",
    "        format_str = \"Unable to open image file {image_filepath}.\"\n",
    "        print( format_str.format(image_filepath=image_filepath))\n",
    "        print(e)\n",
    "        return\n",
    "   \n",
    "    image_ascii = image2ascii(image, new_width=new_width)\n",
    "    print(image_ascii)\n",
    "\n",
    "handle_image_conversion('bowie.jpg', new_width=50)"
   ]
  },
  {
   "cell_type": "markdown",
   "metadata": {},
   "source": [
    "You should add a __name__ if you want to run this in CLI"
   ]
  },
  {
   "cell_type": "code",
   "execution_count": null,
   "metadata": {},
   "outputs": [],
   "source": [
    "if __name__=='__main__':\n",
    "    import sys\n",
    "\n",
    "    image_file_path = sys.argv[1]\n",
    "    image2ascii(image_file_path)"
   ]
  },
  {
   "cell_type": "code",
   "execution_count": 12,
   "metadata": {},
   "outputs": [
    {
     "name": "stdout",
     "output_type": "stream",
     "text": [
      "42790973_10216099963785409_3651339491479650304_n.jpg\r\n",
      "42837627_10216099964585429_1267500133868634112_o.jpg\r\n",
      "43262215_1846119612172585_2375541407780700160_n.jpg\r\n",
      "Pieter_Bruegel_the_Elder_-_The_Tower_of_Babel_(Rotterdam)_-_Google_Art_Project.jpg\r\n",
      "bee_sting.jpg\r\n",
      "bowie.jpg\r\n",
      "kieran pat.jpg\r\n",
      "st aidans staff 1983.jpg\r\n",
      "trump.jpg\r\n",
      "tt.jpg\r\n",
      "zhu-pompidou 20151014_165549.jpg\r\n",
      "zhu.jpg\r\n"
     ]
    }
   ],
   "source": [
    "! ls *jpg"
   ]
  },
  {
   "cell_type": "code",
   "execution_count": null,
   "metadata": {},
   "outputs": [],
   "source": []
  }
 ],
 "metadata": {
  "kernelspec": {
   "display_name": "Python 3",
   "language": "python",
   "name": "python3"
  },
  "language_info": {
   "codemirror_mode": {
    "name": "ipython",
    "version": 3
   },
   "file_extension": ".py",
   "mimetype": "text/x-python",
   "name": "python",
   "nbconvert_exporter": "python",
   "pygments_lexer": "ipython3",
   "version": "3.6.6"
  }
 },
 "nbformat": 4,
 "nbformat_minor": 2
}
